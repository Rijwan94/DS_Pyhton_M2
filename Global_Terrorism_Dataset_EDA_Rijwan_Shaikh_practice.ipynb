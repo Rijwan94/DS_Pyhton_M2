{
  "nbformat": 4,
  "nbformat_minor": 0,
  "metadata": {
    "colab": {
      "private_outputs": true,
      "provenance": [],
      "collapsed_sections": [
        "t6dVpIINYklI",
        "ijmpgYnKYklI",
        "-JiQyfWJYklI",
        "EM7whBJCYoAo",
        "fge-S5ZAYoAp",
        "85gYPyotYoAp",
        "RoGjAbkUYoAp",
        "4Of9eVA-YrdM",
        "iky9q4vBYrdO",
        "F6T5p64dYrdO",
        "y-Ehk30pYrdP",
        "bamQiAODYuh1",
        "QHF8YVU7Yuh3",
        "GwzvFGzlYuh3",
        "qYpmQ266Yuh3",
        "OH-pJp9IphqM",
        "bbFf2-_FphqN",
        "_ouA3fa0phqN",
        "Seke61FWphqN",
        "PIIx-8_IphqN",
        "t27r6nlMphqO",
        "r2jJGEOYphqO",
        "b0JNsNcRphqO",
        "BZR9WyysphqO",
        "jj7wYXLtphqO",
        "eZrbJ2SmphqO",
        "rFu4xreNphqO",
        "YJ55k-q6phqO",
        "gCFgpxoyphqP",
        "OVtJsKN_phqQ",
        "lssrdh5qphqQ",
        "U2RJ9gkRphqQ",
        "1M8mcRywphqQ",
        "tgIPom80phqQ",
        "JMzcOPDDphqR",
        "x-EpHcCOp1ci",
        "X_VqEhTip1ck",
        "8zGJKyg5p1ck",
        "PVzmfK_Ep1ck",
        "n3dbpmDWp1ck",
        "ylSl6qgtp1ck",
        "ZWILFDl5p1ck",
        "M7G43BXep1ck",
        "Ag9LCva-p1cl",
        "E6MkPsBcp1cl",
        "2cELzS2fp1cl",
        "3MPXvC8up1cl",
        "NC_X3p0fY2L0",
        "UV0SzAkaZNRQ",
        "YPEH6qLeZNRQ",
        "q29F0dvdveiT",
        "EXh0U9oCveiU",
        "22aHeOlLveiV",
        "JcMwzZxoAimU",
        "8G2x9gOozGDZ",
        "gCX9965dhzqZ",
        "gIfDvo9L0UH2"
      ],
      "include_colab_link": true
    },
    "kernelspec": {
      "name": "python3",
      "display_name": "Python 3"
    },
    "language_info": {
      "name": "python"
    }
  },
  "cells": [
    {
      "cell_type": "markdown",
      "metadata": {
        "id": "view-in-github",
        "colab_type": "text"
      },
      "source": [
        "<a href=\"https://colab.research.google.com/github/Rijwan94/DS_Pyhton_M2/blob/main/Global_Terrorism_Dataset_EDA_Rijwan_Shaikh_practice.ipynb\" target=\"_parent\"><img src=\"https://colab.research.google.com/assets/colab-badge.svg\" alt=\"Open In Colab\"/></a>"
      ]
    },
    {
      "cell_type": "markdown",
      "source": [],
      "metadata": {
        "id": "vncDsAP0Gaoa"
      }
    },
    {
      "cell_type": "markdown",
      "source": [
        "## **Project Type**    - EDA ( Exploratory data Analysis )\n",
        "#### **Contribution**    - Individual\n",
        "#### **Candidate -** Rijwan Adil Shaikh\n"
      ],
      "metadata": {
        "id": "beRrZCGUAJYm"
      }
    },
    {
      "cell_type": "markdown",
      "source": [
        "# **Project Summary -**"
      ],
      "metadata": {
        "id": "FJNUwmbgGyua"
      }
    },
    {
      "cell_type": "markdown",
      "source": [
        "Write the summary here within 500-600 words."
      ],
      "metadata": {
        "id": "F6v_1wHtG2nS"
      }
    },
    {
      "cell_type": "code",
      "source": [
        "from IPython.display import HTML, display\n",
        "\n",
        "# Define the disclaimer\n",
        "disclaimer = \"\"\"\n",
        "<div id='disclaimer' style='border: 1px solid #ccc; padding: 10px; margin-bottom: 20px;'>\n",
        "    <strong>Disclaimer about 1993:</strong>\n",
        "    <p>\n",
        "        The GTD lacks most terrorism incidents from 1993 due to data loss prior to START’s compilation.\n",
        "        Despite attempts to recover this data from original sources, only about 15% of estimated 1993 attacks\n",
        "        were identified. To avoid misinterpretation, 1993 incidents are excluded from analysis.\n",
        "        However, Appendix II provides country-level statistics based on early reports, and the limited\n",
        "        1993 data is available for download on the GTD website.\n",
        "    </p>\n",
        "</div>\n",
        "\"\"\"\n",
        "\n",
        "# Display the disclaimer\n",
        "display(HTML(disclaimer))\n",
        "\n",
        "# Add reference link in the chart explanation\n",
        "ref_link = \"\"\"\n",
        "<p>\n",
        "    The year 1993 is not visible in this chart due to data loss.\n",
        "    <a href=\"#\" onclick=\"event.preventDefault(); showAlert()\">Click here</a> for more information.\n",
        "</p>\n",
        "\n",
        "<script>\n",
        "    function showAlert() {\n",
        "        alert('The GTD lacks most terrorism incidents from 1993 due to data loss prior to START’s compilation. Despite attempts to recover this data from original sources, only about 15% of estimated 1993 attacks were identified. To avoid misinterpretation, 1993 incidents are excluded from analysis. However, Appendix II provides country-level statistics based on early reports, and the limited 1993 data is available for download on the GTD website.');\n",
        "    }\n",
        "</script>\n",
        "\"\"\"\n",
        "\n",
        "# Display the reference link with pop-up functionality\n",
        "display(HTML(ref_link))\n"
      ],
      "metadata": {
        "id": "RsM1KtTTInXx"
      },
      "execution_count": null,
      "outputs": []
    },
    {
      "cell_type": "markdown",
      "source": [
        "# **GitHub Link -**"
      ],
      "metadata": {
        "id": "w6K7xa23Elo4"
      }
    },
    {
      "cell_type": "markdown",
      "source": [
        "Provide your GitHub Link here."
      ],
      "metadata": {
        "id": "h1o69JH3Eqqn"
      }
    },
    {
      "cell_type": "markdown",
      "source": [
        "# **Problem Statement**\n"
      ],
      "metadata": {
        "id": "yQaldy8SH6Dl"
      }
    },
    {
      "cell_type": "markdown",
      "source": [
        "**Write Problem Statement Here.**"
      ],
      "metadata": {
        "id": "DpeJGUA3kjGy"
      }
    },
    {
      "cell_type": "markdown",
      "source": [
        "#### **Define Your Business Objective?**"
      ],
      "metadata": {
        "id": "PH-0ReGfmX4f"
      }
    },
    {
      "cell_type": "markdown",
      "source": [
        "Answer Here."
      ],
      "metadata": {
        "id": "PhDvGCAqmjP1"
      }
    },
    {
      "cell_type": "markdown",
      "source": [
        "# **General Guidelines** : -  "
      ],
      "metadata": {
        "id": "mDgbUHAGgjLW"
      }
    },
    {
      "cell_type": "markdown",
      "source": [
        "1.   Well-structured, formatted, and commented code is required.\n",
        "2.   Exception Handling, Production Grade Code & Deployment Ready Code will be a plus. Those students will be awarded some additional credits.\n",
        "     \n",
        "     The additional credits will have advantages over other students during Star Student selection.\n",
        "       \n",
        "             [ Note: - Deployment Ready Code is defined as, the whole .ipynb notebook should be executable in one go\n",
        "                       without a single error logged. ]\n",
        "\n",
        "3.   Each and every logic should have proper comments.\n",
        "4. You may add as many number of charts you want. Make Sure for each and every chart the following format should be answered.\n",
        "        \n",
        "\n",
        "```\n",
        "# Chart visualization code\n",
        "```\n",
        "            \n",
        "\n",
        "*   Why did you pick the specific chart?\n",
        "*   What is/are the insight(s) found from the chart?\n",
        "* Will the gained insights help creating a positive business impact?\n",
        "Are there any insights that lead to negative growth? Justify with specific reason.\n",
        "\n",
        "5. You have to create at least 20 logical & meaningful charts having important insights.\n",
        "\n",
        "\n",
        "[ Hints : - Do the Vizualization in  a structured way while following \"UBM\" Rule.\n",
        "\n",
        "U - Univariate Analysis,\n",
        "\n",
        "B - Bivariate Analysis (Numerical - Categorical, Numerical - Numerical, Categorical - Categorical)\n",
        "\n",
        "M - Multivariate Analysis\n",
        " ]\n",
        "\n",
        "\n",
        "\n"
      ],
      "metadata": {
        "id": "ZrxVaUj-hHfC"
      }
    },
    {
      "cell_type": "markdown",
      "source": [
        "# ***Let's Begin !***"
      ],
      "metadata": {
        "id": "O_i_v8NEhb9l"
      }
    },
    {
      "cell_type": "markdown",
      "source": [
        "## ***1. Know Your Data***"
      ],
      "metadata": {
        "id": "HhfV-JJviCcP"
      }
    },
    {
      "cell_type": "markdown",
      "source": [
        "### Import Libraries"
      ],
      "metadata": {
        "id": "Y3lxredqlCYt"
      }
    },
    {
      "cell_type": "code",
      "source": [
        "# Import Libraries\n",
        "import pandas as pd\n",
        "import numpy as np\n",
        "import matplotlib.pyplot as plt\n",
        "import seaborn as sns\n",
        "import plotly.express as px\n",
        "import plotly.graph_objects as go\n",
        "import plotly.io as pio"
      ],
      "metadata": {
        "id": "M8Vqi-pPk-HR"
      },
      "execution_count": null,
      "outputs": []
    },
    {
      "cell_type": "markdown",
      "source": [
        "### Dataset Loading"
      ],
      "metadata": {
        "id": "3RnN4peoiCZX"
      }
    },
    {
      "cell_type": "code",
      "source": [
        "# Mounting Drive to fetch file\n",
        "from google.colab import drive\n",
        "drive.mount('/content/drive')"
      ],
      "metadata": {
        "id": "4CkvbW_SlZ_R"
      },
      "execution_count": null,
      "outputs": []
    },
    {
      "cell_type": "code",
      "source": [
        "#Loading Gloabl Terrorism Database .csv file data into pandas dataframe called as 'global_td_df'\n",
        "global_td_df = pd.read_csv('/content/drive/MyDrive/Data Science/Module_2 _Numerical_Programming_in_Python/Capstone Project/File_Global Terrorism Data.csv', encoding='latin-1')\n"
      ],
      "metadata": {
        "id": "tPdxP9T5Mvaq"
      },
      "execution_count": null,
      "outputs": []
    },
    {
      "cell_type": "markdown",
      "source": [
        "### Dataset First View"
      ],
      "metadata": {
        "id": "x71ZqKXriCWQ"
      }
    },
    {
      "cell_type": "code",
      "source": [
        "# Dataset First Look\n",
        "global_td_df.head(5)"
      ],
      "metadata": {
        "id": "LWNFOSvLl09H"
      },
      "execution_count": null,
      "outputs": []
    },
    {
      "cell_type": "markdown",
      "source": [
        "### Dataset Rows & Columns count"
      ],
      "metadata": {
        "id": "7hBIi_osiCS2"
      }
    },
    {
      "cell_type": "code",
      "source": [
        "# Dataset Rows & Columns count\n",
        "print(f\"Rows: {global_td_df.shape[0]}\")\n",
        "print(f\"Columns: {global_td_df.shape[1]}\")"
      ],
      "metadata": {
        "id": "Kllu7SJgmLij"
      },
      "execution_count": null,
      "outputs": []
    },
    {
      "cell_type": "markdown",
      "source": [
        "### Dataset Information"
      ],
      "metadata": {
        "id": "JlHwYmJAmNHm"
      }
    },
    {
      "cell_type": "code",
      "source": [
        "# Dataset Info\n",
        "global_td_df.info()"
      ],
      "metadata": {
        "id": "e9hRXRi6meOf"
      },
      "execution_count": null,
      "outputs": []
    },
    {
      "cell_type": "markdown",
      "source": [
        "# Creating New Dataframe - 'gtd_df' with Required columns only."
      ],
      "metadata": {
        "id": "9AYwINaVTh2I"
      }
    },
    {
      "cell_type": "markdown",
      "source": [
        "1. Renaming only important column for better understanding."
      ],
      "metadata": {
        "id": "OKpxIxPiVLfK"
      }
    },
    {
      "cell_type": "code",
      "source": [
        "# Define a dictionary with old column names as keys and new column names as values\n",
        "column_renames = {'iyear': 'Year',\n",
        "    'imonth': 'Month',\n",
        "    'iday': 'Day',\n",
        "    'country_txt': 'Country',\n",
        "    'region_txt': 'Region',\n",
        "    'provstate': 'Province/State',\n",
        "    'city': 'City',\n",
        "    'success': 'Success',\n",
        "    'suicide': 'Suicide',\n",
        "    'attacktype1_txt': 'Attack Type 1',\n",
        "    'targtype1_txt': 'Target Type 1',\n",
        "    'targsubtype1_txt': 'Target Subtype 1',\n",
        "    'gname': 'Group Name 1',\n",
        "    'motive': 'Motive',\n",
        "    'claimmode_txt': 'Claim Mode',\n",
        "    'weaptype1_txt': 'Weapon Type 1',\n",
        "    'weapsubtype1_txt': 'Weapon Subtype 1',\n",
        "    'nkill': 'Number Killed',\n",
        "    'nwound': 'Number Wounded',\n",
        "    'ishostkid': 'Is Hostage',\n",
        "    'ransom': 'Ransom',\n",
        "    'hostkidoutcome_txt': 'Hostage Outcome',\n",
        "    'INT_LOG': 'Logistical Status',\n",
        "    'INT_IDEO': 'Ideological Status'\n",
        "}\n",
        "\n",
        "# Rename columns\n",
        "global_td_df.rename(columns=column_renames, inplace=True)\n",
        "\n"
      ],
      "metadata": {
        "id": "TbOPVA0zVddu"
      },
      "execution_count": null,
      "outputs": []
    },
    {
      "cell_type": "markdown",
      "source": [
        "2. Loading important column to new dataframe- 'gtd_df'"
      ],
      "metadata": {
        "id": "z8lIunh0VsCQ"
      }
    },
    {
      "cell_type": "code",
      "source": [
        "#make new dataframe as 'gtd_df' with reuquired column only\n",
        "gtd_df = global_td_df[['Year', 'Month', 'Day', 'Country', 'Region', 'Province/State',\n",
        "                       'City','Success','Suicide', 'Attack Type 1', 'Target Type 1',\n",
        "                       'Target Subtype 1','Group Name 1', 'Motive', 'Claim Mode',\n",
        "                       'Weapon Type 1', 'Weapon Subtype 1', 'Number Killed', 'Number Wounded',\n",
        "                       'Is Hostage', 'Ransom', 'Hostage Outcome', 'Logistical Status',\n",
        "                       'Ideological Status']]"
      ],
      "metadata": {
        "id": "JXY7pI1GV4Fh"
      },
      "execution_count": null,
      "outputs": []
    },
    {
      "cell_type": "code",
      "source": [
        "mean_killed = gtd_df['Number Killed'].mean()\n",
        "median_killed = gtd_df['Number Killed'].median()\n",
        "mode_killed = gtd_df['Number Killed'].mode()[0]  #\n",
        "\n",
        "print(f\"Mean: {mean_killed}, Median: {median_killed}, Mode: {mode_killed}\")"
      ],
      "metadata": {
        "id": "BG7u0P8Q10sW"
      },
      "execution_count": null,
      "outputs": []
    },
    {
      "cell_type": "markdown",
      "source": [
        "3. First view of new dataframe - 'gtd_df'"
      ],
      "metadata": {
        "id": "-f2sPIMAWDLJ"
      }
    },
    {
      "cell_type": "code",
      "source": [
        "# Dataset First Look\n",
        "global_td_df.head(5)"
      ],
      "metadata": {
        "id": "z73QaVC6WXXj"
      },
      "execution_count": null,
      "outputs": []
    },
    {
      "cell_type": "markdown",
      "source": [
        "4. Dataset Rows and Column Count"
      ],
      "metadata": {
        "id": "vf6MMK-lWmO-"
      }
    },
    {
      "cell_type": "code",
      "source": [
        "# Dataset Rows & Columns count\n",
        "print(f\"Rows: {gtd_df.shape[0]}\")\n",
        "print(f\"Columns: {gtd_df.shape[1]}\")"
      ],
      "metadata": {
        "id": "bBkLicXuWr06"
      },
      "execution_count": null,
      "outputs": []
    },
    {
      "cell_type": "markdown",
      "source": [
        "5. Dataframe 'gtd_df' Information"
      ],
      "metadata": {
        "id": "Zj2khOVUXTxD"
      }
    },
    {
      "cell_type": "code",
      "source": [
        "#Basic Information of our new dataframe\n",
        "gtd_df.info()"
      ],
      "metadata": {
        "id": "qoU4FUKVAo6K"
      },
      "execution_count": null,
      "outputs": []
    },
    {
      "cell_type": "markdown",
      "source": [
        "#### Duplicate Values"
      ],
      "metadata": {
        "id": "jKBpNZrWAN-T"
      }
    },
    {
      "cell_type": "code",
      "source": [
        "# Dataset Duplicate Value Count\n",
        "gtd_df.duplicated().sum()"
      ],
      "metadata": {
        "id": "NvqKv6G8ANkq"
      },
      "execution_count": null,
      "outputs": []
    },
    {
      "cell_type": "markdown",
      "source": [
        "\n",
        "### **Missing Values/Null Values**"
      ],
      "metadata": {
        "id": "UsOSqt64YIr5"
      }
    },
    {
      "cell_type": "code",
      "source": [
        "# Missing Values/Null Values Count\n",
        "gtd_df.isnull().sum()"
      ],
      "metadata": {
        "id": "qX4VXpOhA0Vj"
      },
      "execution_count": null,
      "outputs": []
    },
    {
      "cell_type": "code",
      "source": [
        "# Visualizing the missing values\n",
        "import seaborn as sns\n",
        "import matplotlib.pyplot as plt\n",
        "\n",
        "# Calculate the count of missing values per column\n",
        "missing_values_count = gtd_df.isnull().sum()\n",
        "\n",
        "# Filter out columns with no missing values\n",
        "missing_values_count = missing_values_count[missing_values_count > 0]\n",
        "\n",
        "# Create a bar plot for missing values\n",
        "plt.figure(figsize=(12, 8))\n",
        "sns.barplot(x=missing_values_count.index, y=missing_values_count.values, palette='viridis')\n",
        "plt.xticks(rotation=90)  # Rotate column names for better readability\n",
        "plt.title('Count of Missing Values per Column')\n",
        "plt.xlabel('Columns')\n",
        "plt.ylabel('Number of Missing Values')\n",
        "plt.show()"
      ],
      "metadata": {
        "id": "DgEWOQJ0B8aF"
      },
      "execution_count": null,
      "outputs": []
    },
    {
      "cell_type": "markdown",
      "source": [
        "### Columns to Handle with NaN/Null\n",
        "#### Province/State,  City,  Target Subtype1,  Motive,  Claim Mode,  Weapon Subtype 1,  Number Killed,  Number Wounded,  Is Hostage,  Ransom,  Hostage Outcome."
      ],
      "metadata": {
        "id": "IFyFuZVCZ8aR"
      }
    },
    {
      "cell_type": "code",
      "source": [
        "# Fill NaN values in Province/State column as 'Unknown'\n",
        "gtd_df['Province/State'] = gtd_df['Province/State'].fillna('Unknown')\n",
        "\n",
        "# Fill NaN values in City column as 'Unknown'\n",
        "gtd_df['City'] = gtd_df['City'].fillna('Unknown')\n",
        "\n",
        "# Fill NaN values in Target Subtype 1 column as 'Others'\n",
        "gtd_df['Target Subtype 1'] = gtd_df['Target Subtype 1'].fillna('Unknown')\n",
        "\n",
        "# Fill NaN values in Motive column as 'Unknown'\n",
        "gtd_df['Motive'] = gtd_df['Motive'].fillna('Unknown')\n",
        "\n",
        "# Fill NaN values in Claim Mode column as 'Others'\n",
        "gtd_df['Claim Mode'] = gtd_df['Claim Mode'].fillna('Unknown')\n",
        "\n",
        "# Fill NaN values in Weapon Subtype 1 column as 'Others'\n",
        "gtd_df['Weapon Subtype 1'] = gtd_df['Weapon Subtype 1'].fillna('Unknown')\n",
        "\n",
        "# Fill NaN values in Number Killed column as 'Unknown'\n",
        "gtd_df['Number Killed'] = gtd_df['Number Killed'].fillna('Unknown')\n",
        "\n",
        "# Fill NaN values in Number Wounded column as 'Unknown'\n",
        "gtd_df['Number Wounded'] = gtd_df['Number Wounded'].fillna('Unknown')\n",
        "\n",
        "# Fill NaN values in Is Hostage column as 'Unknown'\n",
        "gtd_df['Is Hostage'] = gtd_df['Is Hostage'].fillna('Unknown')\n",
        "\n",
        "# Fill NaN values in Ransom column as 'Unknown'\n",
        "gtd_df['Ransom'] = gtd_df['Ransom'].fillna('Not Applicable')\n",
        "\n",
        "# Fill NaN values in Hostage Outcome column as 'Unknown'\n",
        "gtd_df['Hostage Outcome'] = gtd_df['Hostage Outcome'].fillna('Unknown')"
      ],
      "metadata": {
        "id": "VYbighB2Y9UH"
      },
      "execution_count": null,
      "outputs": []
    },
    {
      "cell_type": "code",
      "source": [
        "# Dataset NaN/Null Count\n",
        "gtd_df.isnull().sum()"
      ],
      "metadata": {
        "id": "_moJG4en36wt"
      },
      "execution_count": null,
      "outputs": []
    },
    {
      "cell_type": "markdown",
      "source": [
        "### What did you know about your dataset?"
      ],
      "metadata": {
        "id": "H0kj-8xxnORC"
      }
    },
    {
      "cell_type": "markdown",
      "source": [
        "The dataset contains 1,81,691 entries documenting terrorist attacks. we are taking 26 columns out of 135 columns into consideration for better and quick analysis. It includes key columns such as the date of the attack, location details (Country, Region, City, Latitude, Longitude), and attributes related to the attack's nature (Attack Type, Target Type, Group Name). While most columns are complete. Overall, the dataset offers a comprehensive view of terrorist activities with a lot of detailed information."
      ],
      "metadata": {
        "id": "gfoNAAC-nUe_"
      }
    },
    {
      "cell_type": "markdown",
      "source": [
        "## ***2. Understanding Your Variables***"
      ],
      "metadata": {
        "id": "nA9Y7ga8ng1Z"
      }
    },
    {
      "cell_type": "code",
      "source": [
        "# Dataset Columns\n",
        "gtd_df.columns"
      ],
      "metadata": {
        "id": "5ym2ROuwCjhf"
      },
      "execution_count": null,
      "outputs": []
    },
    {
      "cell_type": "code",
      "source": [
        "# Dataset Describe\n",
        "gtd_df.describe()"
      ],
      "metadata": {
        "id": "FtWTCRQXCnIs"
      },
      "execution_count": null,
      "outputs": []
    },
    {
      "cell_type": "markdown",
      "source": [
        "### Variables Description"
      ],
      "metadata": {
        "id": "PBTbrJXOngz2"
      }
    },
    {
      "cell_type": "markdown",
      "source": [
        "Variables Description:\n",
        "Some important Variable taken from main column list which are issesntial in analysis. Here is the list and respective description.\n",
        "\n",
        "1. **Year**: The year in which the attack occurred.\n",
        "\n",
        "2. **Month**: The month in which the attack occurred.\n",
        "\n",
        "3. **Day**: The day of the month when the attack took place.\n",
        "\n",
        "4. **Country**: The country in which the attack occurred.\n",
        "\n",
        "5. **Region**: The geographical region where the attack took place.\n",
        "\n",
        "6. **Province/State**: The specific province or state within the country where the attack occurred.\n",
        "\n",
        "7. **City**: The city where the attack happened.\n",
        "\n",
        "8. **Success**: Indicator of whether the attack was successful (e.g., yes/no).\n",
        "\n",
        "9. **Suicide**: Indicates if the attack was carried out by a suicide bomber (e.g., yes/no).\n",
        "\n",
        "10. **Attack Type 1**: Primary type of attack (e.g., bombing, armed assault).\n",
        "\n",
        "11. **Target Type 1**: Type of target of the attack (e.g., civilian, military).\n",
        "\n",
        "12. **Target Subtype 1**: Specific subtype of the primary target type.\n",
        "\n",
        "13. **Group Name 1**: Name of the terrorist group responsible for the attack.\n",
        "\n",
        "14. **Motive**: The motivation or reason behind the attack (e.g., political, ideological).\n",
        "\n",
        "15. **Claim Mode**: Method used by the attackers to claim responsibility for the attack.\n",
        "\n",
        "16. **Weapon Type 1**: Primary type of weapon used in the attack (e.g., firearms, explosives).\n",
        "\n",
        "17. **Weapon Subtype 1**: Specific subtype of the primary weapon used\n",
        "\n",
        "18. **Number Killed**: Number of people killed in the attack.\n",
        "\n",
        "19.  **Number Wounded**: Number of people injured in the attack.\n",
        "\n",
        "20. **Is Hostage**: Indicates if hostages were taken during the attack (e.g., yes/no).\n",
        "\n",
        "21. **Ransom**: Amount of ransom demanded, if applicable.\n",
        "\n",
        "22. **Hostage Outcome**: Outcome related to hostages (e.g., released, killed, escaped).\n",
        "\n",
        "23. **Logistical Status**: Status related to the logistics of the attack (e.g.logistically international, logistically domestic)\n",
        "\n",
        "24. **Ideological Status**: Status related to the ideological motivation of the attack (e.g., international, Domestic)."
      ],
      "metadata": {
        "id": "aJV4KIxSnxay"
      }
    },
    {
      "cell_type": "markdown",
      "source": [
        "### Check Unique Values for each variable."
      ],
      "metadata": {
        "id": "u3PMJOP6ngxN"
      }
    },
    {
      "cell_type": "code",
      "source": [
        "# Check Unique Values for each variable.\n",
        "gtd_df.nunique()"
      ],
      "metadata": {
        "id": "zms12Yq5n-jE"
      },
      "execution_count": null,
      "outputs": []
    },
    {
      "cell_type": "markdown",
      "source": [
        "## 3. ***Data Wrangling***"
      ],
      "metadata": {
        "id": "dauF4eBmngu3"
      }
    },
    {
      "cell_type": "markdown",
      "source": [
        "### Data Wrangling Code"
      ],
      "metadata": {
        "id": "bKJF3rekwFvQ"
      }
    },
    {
      "cell_type": "code",
      "source": [
        "class TerrorismWrangling:\n",
        "    def __init__(self, gtd_df):\n",
        "        \"\"\"Initialize with dataframe.\"\"\"\n",
        "        try:\n",
        "            self.df = gtd_df.copy()\n",
        "            # Convert columns to appropriate data types\n",
        "            self.df['Year'] = self.df['Year'].astype(int)\n",
        "\n",
        "            # Handle non-numeric values in 'Ransom' before conversion\n",
        "            self.df['Ransom'] = self.df['Ransom'].replace('Not Applicable', '-9')\n",
        "            self.df['Ransom'] = self.df['Ransom'].fillna(-9).astype(float)  # Handle 'Unknown' cases\n",
        "\n",
        "            # Handle 'Unknown' values in 'Is Hostage' before conversion\n",
        "            self.df['Is Hostage'] = self.df['Is Hostage'].replace('Unknown', '-9') # Replace 'Unknown' with '-9'\n",
        "            self.df['Is Hostage'] = self.df['Is Hostage'].fillna(-9).astype(int)  # Handle remaining missing values\n",
        "\n",
        "            # Map values to descriptive strings\n",
        "            self.df['Ransom'] = self.df['Ransom'].map({1: 'Yes', 0: 'No', -9: 'Unknown'})\n",
        "            self.df['Is Hostage'] = self.df['Is Hostage'].map({1: 'Yes', 0: 'No', -9: 'Unknown'})\n",
        "        except Exception as e:\n",
        "            raise ValueError(f'Error initializing: {e}')\n",
        "\n",
        "\n",
        "\n",
        "    def get_df(self):\n",
        "        \"\"\"Returns the dataframe.\"\"\"\n",
        "        return self.df\n",
        "\n",
        "    def get_incidents_by_year(self):\n",
        "        \"\"\"Returns number of incidents per year.\"\"\"\n",
        "        return self.df['Year'].value_counts().sort_index()\n",
        "\n",
        "    def get_top_attack_types(self):\n",
        "        \"\"\"Returns top attack types.\"\"\"\n",
        "        return self.df['Attack Type 1'].value_counts().sort_values(ascending=False)\n",
        "\n",
        "    def get_top_target_types(self):\n",
        "        \"\"\"Returns top target types.\"\"\"\n",
        "        return self.df['Target Type 1'].value_counts().sort_values(ascending=False)\n",
        "\n",
        "    def get_top_terrorist_groups(self):\n",
        "        \"\"\"Returns top terrorist groups.\"\"\"\n",
        "        return self.df['Group Name 1'].value_counts().sort_values(ascending=False)\n",
        "\n",
        "    def get_avg_number_killed(self):\n",
        "        \"\"\"Returns average number killed.\"\"\"\n",
        "        return self.df['Number Killed'].mean()\n",
        "\n",
        "    def get_avg_number_wounded(self):\n",
        "        \"\"\"Returns average number wounded.\"\"\"\n",
        "        return self.df['Number Wounded'].mean()\n",
        "\n",
        "    def get_total_ransom(self):\n",
        "        \"\"\"Returns total count of incidents involving ransom demands.\"\"\"\n",
        "        return (self.df['Ransom'] == 'Yes').sum()\n",
        "\n",
        "    def get_incidents_with_hostages(self):\n",
        "        \"\"\"Returns number of incidents with hostages.\"\"\"\n",
        "        return (self.df['Is Hostage'] == 'Yes').sum()\n",
        "\n",
        "    def get_incidents_by_country(self):\n",
        "        \"\"\"Returns number of incidents per country.\"\"\"\n",
        "        return self.df['Country'].value_counts().sort_values(ascending=False)\n",
        "\n",
        "    def get_incidents_by_region(self):\n",
        "        \"\"\"Returns number of incidents per region.\"\"\"\n",
        "        return self.df['Region'].value_counts().sort_values(ascending=False)\n",
        "\n",
        "    def get_incidents_by_attack_type(self):\n",
        "        \"\"\"Returns number of incidents per attack type.\"\"\"\n",
        "        return self.df['Attack Type 1'].value_counts().sort_values(ascending=False)\n",
        "\n",
        "    def get_incidents_by_target_type(self):\n",
        "        \"\"\"Returns number of incidents per target type.\"\"\"\n",
        "        return self.df['Target Type 1'].value_counts().sort_values(ascending=False)\n",
        "\n",
        "    def get_incidents_by_year_month(self):\n",
        "        \"\"\"Returns number of incidents by year and month.\"\"\"\n",
        "        return self.df.groupby(['Year', 'Month']).size()\n",
        "\n",
        "    def get_df_with_text_length(self):\n",
        "        \"\"\"Returns dataframe with text length of summaries.\"\"\"\n",
        "        self.df['Motive Length'] = self.df['Motive'].apply(lambda x: len(x) if pd.notna(x) else 0)\n",
        "        return self.df\n",
        "\n",
        "    # Method to get incidents with specific attack type\n",
        "    def get_incidents_with_attack_type(self, attack_type):\n",
        "        \"\"\"Returns dataframe with specific attack type.\"\"\"\n",
        "        return self.df[self.df['Attack Type 1'] == attack_type]\n",
        "\n",
        "    # Method to get incidents with specific target type\n",
        "    def get_incidents_with_target_type(self, target_type):\n",
        "        \"\"\"Returns dataframe with specific target type.\"\"\"\n",
        "        return self.df[self.df['Target Type 1'] == target_type]\n",
        "\n",
        "    # Method to get incidents with specific terrorist group\n",
        "    def get_incidents_with_terrorist_group(self, group_name):\n",
        "        \"\"\"Returns dataframe with specific terrorist group.\"\"\"\n",
        "        return self.df[self.df['Group Name 1'] == group_name]\n",
        "\n",
        "    # Method to get number of incidents by region and sort by frequency\n",
        "    def get_incidents_by_region_sorted(self):\n",
        "        \"\"\"Returns number of incidents per region sorted by frequency.\"\"\"\n",
        "        return self.df['Region'].value_counts().sort_values(ascending=False)\n",
        "\n",
        "    # Method to get number of incidents by region with counts\n",
        "    def get_incidents_by_region_count(self):\n",
        "        \"\"\"Returns count of incidents by region.\"\"\"\n",
        "        return self.df['Region'].value_counts()\n",
        "\n",
        "    # Method to get regions with more than a certain number of incidents\n",
        "    def get_frequent_regions(self, min_count):\n",
        "        \"\"\"Returns regions with more than min_count incidents.\"\"\"\n",
        "        return self.df['Region'].value_counts()[self.df['Region'].value_counts() > min_count]\n",
        "\n",
        "    def attacks_by_group_ideological_status(self):\n",
        "        \"\"\"Find the number of attacks for each group with Ideological Status as 1.\"\"\"\n",
        "        try:\n",
        "            # Filter the DataFrame for Ideological Status 1\n",
        "            ideological_df = self.df[self.df['Ideological Status'] == 1]\n",
        "\n",
        "            # Group by 'Group Name 1' and count the number of attacks\n",
        "            attacks_by_group = ideological_df.groupby('Group Name 1').size()\n",
        "\n",
        "            # Sort the results to find the groups with the highest number of attacks\n",
        "            sorted_attacks = attacks_by_group.sort_values(ascending=False)\n",
        "\n",
        "            return sorted_attacks\n",
        "\n",
        "        except Exception as e:\n",
        "            raise ValueError(f'Error occurred: {e}')\n",
        "\n",
        "    def highest_groups_logistical_status(self):\n",
        "        \"\"\"Find the groups with the highest number of incidents where Logistical Status is 1.\"\"\"\n",
        "        try:\n",
        "            # Filter the DataFrame for Logistical Status 1\n",
        "            logistical_df = self.df[self.df['Logistical Status'] == 1]\n",
        "\n",
        "            # Count incidents per terrorist group\n",
        "            group_incident_counts = logistical_df['Group Name 1'].value_counts()\n",
        "\n",
        "            return group_incident_counts\n",
        "\n",
        "        except Exception as e:\n",
        "            raise ValueError(f'Error occurred: {e}')\n",
        "gtd = TerrorismWrangling(gtd_df)\n",
        "#gtd.casualties_by_group_ideological_status()\n"
      ],
      "metadata": {
        "id": "wk-9a2fpoLcV"
      },
      "execution_count": null,
      "outputs": []
    },
    {
      "cell_type": "code",
      "source": [
        "gtd.highest_groups_logistical_status().head(10)"
      ],
      "metadata": {
        "id": "stIE4zpS04zI"
      },
      "execution_count": null,
      "outputs": []
    },
    {
      "cell_type": "code",
      "source": [
        "gtd.attacks_by_group_ideological_status().head(10)"
      ],
      "metadata": {
        "id": "1EGbXpcP9R9y"
      },
      "execution_count": null,
      "outputs": []
    },
    {
      "cell_type": "code",
      "source": [
        "gtd.get_incidents_with_terrorist_group('Taliban').head(10)"
      ],
      "metadata": {
        "id": "dNnrMluZwysm"
      },
      "execution_count": null,
      "outputs": []
    },
    {
      "cell_type": "code",
      "source": [
        "islamic_state_attacks = gtd.get_incidents_with_terrorist_group('Islamic State of Iraq and the Levant (ISIL)')\n",
        "num_attacks = islamic_state_attacks.shape[0]  # Count the number of rows\n",
        "\n",
        "print(f\"Number of attacks by Islamic State of Iraq and the Levant (ISIL): {num_attacks}\")"
      ],
      "metadata": {
        "id": "otm-23wNyCJi"
      },
      "execution_count": null,
      "outputs": []
    },
    {
      "cell_type": "code",
      "source": [
        "gtd.get_incidents_by_year()"
      ],
      "metadata": {
        "id": "9pKn0fX_-SpO"
      },
      "execution_count": null,
      "outputs": []
    },
    {
      "cell_type": "code",
      "source": [
        "# Count of attacks by country\n",
        "print(gtd_df['Country'].value_counts().head(30))"
      ],
      "metadata": {
        "id": "FQRrBYWthWnt"
      },
      "execution_count": null,
      "outputs": []
    },
    {
      "cell_type": "code",
      "source": [
        "# Count of attacks by region\n",
        "print(gtd_df['Region'].value_counts().head(15))"
      ],
      "metadata": {
        "id": "juq9TIJYhaRn"
      },
      "execution_count": null,
      "outputs": []
    },
    {
      "cell_type": "code",
      "source": [
        "# Count of attacks by city\n",
        "print(gtd_df['City'].value_counts().head(15))"
      ],
      "metadata": {
        "id": "2AEiGxWShdnd"
      },
      "execution_count": null,
      "outputs": []
    },
    {
      "cell_type": "code",
      "source": [
        "# Count of attacks by year\n",
        "print(gtd_df['Year'].value_counts())"
      ],
      "metadata": {
        "id": "3nXct66ahg69"
      },
      "execution_count": null,
      "outputs": []
    },
    {
      "cell_type": "code",
      "source": [
        "# Count of attacks by month\n",
        "print(gtd_df['Month'].value_counts())"
      ],
      "metadata": {
        "id": "iXmrKYDIhjMj"
      },
      "execution_count": null,
      "outputs": []
    },
    {
      "cell_type": "code",
      "source": [
        "# Count of attack types\n",
        "print(gtd_df['Attack Type 1'].value_counts().head(15))"
      ],
      "metadata": {
        "id": "5KQ_kB6Nhkrl"
      },
      "execution_count": null,
      "outputs": []
    },
    {
      "cell_type": "code",
      "source": [
        "# Count of target types\n",
        "print(gtd_df['Target Type 1'].value_counts().head(15))"
      ],
      "metadata": {
        "id": "1mKnuvdyhmNh"
      },
      "execution_count": null,
      "outputs": []
    },
    {
      "cell_type": "code",
      "source": [
        "# Count of terrorist groups\n",
        "print(gtd_df['Group Name 1'].value_counts().head(15))"
      ],
      "metadata": {
        "id": "m3ZGy9i-hrED"
      },
      "execution_count": null,
      "outputs": []
    },
    {
      "cell_type": "code",
      "source": [
        "# Total number of attacks\n",
        "print(gtd_df.shape[0])"
      ],
      "metadata": {
        "id": "RCkNoCvchsaK"
      },
      "execution_count": null,
      "outputs": []
    },
    {
      "cell_type": "code",
      "source": [
        "# Total number of fatalities\n",
        "#Using .loc to avoid this error,\n",
        "#TypeError: unsupported operand type(s) for +: 'float' and 'str'\n",
        "gtd_df.loc[:, 'Number Killed'] = pd.to_numeric(gtd_df['Number Killed'], errors='coerce')\n",
        "\n",
        "# Calculate and print the total number of fatalities\n",
        "print(gtd_df['Number Killed'].sum())"
      ],
      "metadata": {
        "id": "7gu7LTHKhuLS"
      },
      "execution_count": null,
      "outputs": []
    },
    {
      "cell_type": "code",
      "source": [
        "# Total number of injuries\n",
        "gtd_df.loc[:, 'Number Wounded'] = pd.to_numeric(gtd_df['Number Wounded'], errors='coerce')\n",
        "\n",
        "print(gtd_df['Number Wounded'].sum())"
      ],
      "metadata": {
        "id": "418Ny0uYhwKH"
      },
      "execution_count": null,
      "outputs": []
    },
    {
      "cell_type": "code",
      "source": [
        "# Average number of fatalities per attack\n",
        "print(gtd_df['Number Killed'].mean())"
      ],
      "metadata": {
        "id": "QM54ie9EhxX4"
      },
      "execution_count": null,
      "outputs": []
    },
    {
      "cell_type": "code",
      "source": [
        "# Average number of injuries per attack\n",
        "print(gtd_df['Number Wounded'].mean())"
      ],
      "metadata": {
        "id": "9JDfvIUOhzxJ"
      },
      "execution_count": null,
      "outputs": []
    },
    {
      "cell_type": "code",
      "source": [
        "# Count of incidents with hostages\n",
        "print((gtd_df['Is Hostage'] == 1).sum())"
      ],
      "metadata": {
        "id": "NXSqQCZyh1Ch"
      },
      "execution_count": null,
      "outputs": []
    },
    {
      "cell_type": "code",
      "source": [
        "# Count of incidents with ransom\n",
        "print((gtd_df['Ransom'] == 1).sum())"
      ],
      "metadata": {
        "id": "dH63727vh3C_"
      },
      "execution_count": null,
      "outputs": []
    },
    {
      "cell_type": "code",
      "source": [
        "pio.renderers.default = 'colab'\n",
        "\n",
        "class TerrorismVisualization:\n",
        "    def __init__(self, df):\n",
        "        \"\"\"Initialize with DataFrame.\"\"\"\n",
        "        self.df = df\n",
        "\n",
        "    def incidents_by_year(self):\n",
        "        \"\"\"Plot number of incidents year-wise.\"\"\"\n",
        "        try:\n",
        "            # Group the data by year and count incidents\n",
        "            data = self.df.groupby('Year').size()\n",
        "\n",
        "            # Create the plot\n",
        "            fig = go.Figure()\n",
        "            fig.add_trace(go.Scatter(\n",
        "                x=data.index,\n",
        "                y=data.values,\n",
        "                mode='lines+markers',\n",
        "                marker=dict(color='black', size=10),\n",
        "                line=dict(color='black'),\n",
        "                text=[f'Year: {year}<br>Incidents: {num}' for year, num in zip(data.index, data.values)],\n",
        "                hoverinfo='text'\n",
        "            ))\n",
        "\n",
        "            # Update the layout\n",
        "            fig.update_layout(\n",
        "                title='Number of Incidents Year wise',\n",
        "                xaxis_title='Year',\n",
        "                yaxis_title='Number of Incidents',\n",
        "                xaxis=dict(tickangle=45),\n",
        "                plot_bgcolor='slategrey',\n",
        "                paper_bgcolor='lightsteelblue',\n",
        "                template='plotly_white'\n",
        "            )\n",
        "\n",
        "            # Show the plot (with the global renderer already set to \"notebook\")\n",
        "            fig.show()\n",
        "        except Exception as e:\n",
        "            print(f\"Error occurred: {e}\")\n",
        "\n",
        "\n",
        "    def attacks_by_country(self):\n",
        "        \"\"\"Plot map of total number of attacks by country.\"\"\"\n",
        "        try:\n",
        "            gtd_map_df = self.df[['Country', 'Year']]\n",
        "            terr = gtd_map_df.groupby('Country', as_index=False).size()\n",
        "            terr = terr.rename(columns={'size': 'Attacks'})\n",
        "\n",
        "            fig = px.choropleth(\n",
        "                terr,\n",
        "                locations='Country',\n",
        "                locationmode='country names',\n",
        "                color='Attacks',\n",
        "                hover_name='Country',\n",
        "                projection='orthographic',\n",
        "                title='Total number of attacks (1970-2017)-Country Wise',\n",
        "                labels={'Attacks': 'Number of Attacks'}\n",
        "            )\n",
        "\n",
        "            fig.update_layout(\n",
        "                autosize=False,\n",
        "                width=1200,\n",
        "                height=800\n",
        "            )\n",
        "\n",
        "            fig.show()\n",
        "        except Exception as e:\n",
        "            print(f\"Error occurred: {e}\")\n",
        "\n",
        "    def attacks_by_region(self):\n",
        "        \"\"\"Plot bar chart of attacks by region.\"\"\"\n",
        "        try:\n",
        "            region_counts = self.df['Region'].value_counts().reset_index()\n",
        "            region_counts.columns = ['Region', 'Number of Attacks']\n",
        "\n",
        "            fig = px.bar(\n",
        "                region_counts,\n",
        "                x='Region',\n",
        "                y='Number of Attacks',\n",
        "                color='Number of Attacks',\n",
        "                color_continuous_scale=px.colors.sequential.Plasma,\n",
        "                title='Attacks by Region',\n",
        "                labels={'Number of Attacks': 'Number of Attacks'},\n",
        "                text='Number of Attacks'\n",
        "            )\n",
        "\n",
        "            fig.update_layout(\n",
        "                xaxis_title='Region',\n",
        "                yaxis_title='Number of Attacks',\n",
        "                xaxis_tickangle=-45,\n",
        "                coloraxis_colorbar_title='Number of Attacks'\n",
        "            )\n",
        "\n",
        "            fig.show()\n",
        "        except Exception as e:\n",
        "            print(f\"Error occurred: {e}\")\n",
        "\n",
        "    def attack_types(self):\n",
        "        \"\"\"Plot pie chart for attack types (Type 1).\"\"\"\n",
        "        try:\n",
        "            attack_type_counts = self.df['Attack Type 1'].value_counts().reset_index()\n",
        "            attack_type_counts.columns = ['Attack Type 1', 'Number of Attacks']\n",
        "\n",
        "            fig = px.pie(\n",
        "                attack_type_counts,\n",
        "                names='Attack Type 1',\n",
        "                values='Number of Attacks',\n",
        "                title='Types of Attack. Type-1',\n",
        "                labels={'Number of Attacks': 'Number of Attacks'},\n",
        "                template='plotly_white'\n",
        "            )\n",
        "\n",
        "            fig.show()\n",
        "        except Exception as e:\n",
        "            print(f\"Error occurred: {e}\")\n",
        "\n",
        "    def active_years_for_top_20_groups(self):\n",
        "        \"\"\"Plot active years for the top 20 terrorist groups based on the number of attacks, with hover text showing first and last attack years and total number of attacks.\"\"\"\n",
        "        try:\n",
        "            # Filter out 'Unknown'\n",
        "            filtered_df = self.df[self.df['Group Name 1'] != 'Unknown']\n",
        "\n",
        "            # Get the top 20 groups based on the number of attacks\n",
        "            top_20_groups = filtered_df['Group Name 1'].value_counts().head(20)\n",
        "            top_20_group_names = top_20_groups.index\n",
        "\n",
        "            # Filter the DataFrame to only include rows from the top 20 groups\n",
        "            top_20_df = filtered_df[filtered_df['Group Name 1'].isin(top_20_group_names)]\n",
        "\n",
        "            # Calculate the first and last attack years for each group\n",
        "            group_years = top_20_df.groupby('Group Name 1')['Year'].agg(['min', 'max'])\n",
        "            group_years['Active Years'] = group_years['max'] - group_years['min'] + 1\n",
        "            group_years['Number of Attacks'] = top_20_groups  # Include the count of attacks for each group\n",
        "\n",
        "            # Ensure order matches the top 20 by number of attacks\n",
        "            group_years = group_years.loc[top_20_group_names]\n",
        "\n",
        "            # Generate hover text with first and last attack years, active years, and number of attacks\n",
        "            hover_text = [\n",
        "                f\"Group: {group}<br>First Incident Year: {row['min']}<br>Last Incident Year: {row['max']}<br>Active Years: {row['Active Years']}<br>Number of Attacks: {row['Number of Attacks']}\"\n",
        "                for group, row in group_years.iterrows()\n",
        "            ]\n",
        "\n",
        "            # Plot the chart\n",
        "            fig = px.bar(\n",
        "                group_years.reset_index(),\n",
        "                x='Group Name 1',\n",
        "                y='Active Years',\n",
        "                color='Active Years',\n",
        "                color_continuous_scale=px.colors.sequential.Viridis,\n",
        "                title='Active Years of Top 20 Terrorist Groups by Number of Attacks',\n",
        "                labels={'Group Name 1': 'Group Name', 'Active Years': 'Number of Active Years'},\n",
        "                text='Active Years',\n",
        "                hover_name=hover_text  # Custom hover text\n",
        "            )\n",
        "\n",
        "            # Adjust layout for better readability\n",
        "            fig.update_layout(\n",
        "                xaxis_title='Group Name',\n",
        "                yaxis_title='Number of Active Years',\n",
        "                xaxis_tickangle=-45,\n",
        "                coloraxis_colorbar_title='Active Years',\n",
        "                plot_bgcolor='white',\n",
        "                width=900,  # Adjusted for better visibility\n",
        "                height=600\n",
        "            )\n",
        "\n",
        "            fig.show()\n",
        "        except Exception as e:\n",
        "            print(f\"Error occurred: {e}\")\n",
        "\n",
        "# Usage example:\n",
        "gtd_viz = TerrorismVisualization(gtd_df)\n",
        "# gtd_viz.incidents_by_year()\n",
        "# gtd_viz.map_attacks_by_country()\n",
        "# gtd_viz.attacks_by_region()\n",
        "# gtd_viz.attack_type_distribution()\n",
        "# gtd_viz.active_years_by_group()"
      ],
      "metadata": {
        "id": "yeW43xK3-NM4"
      },
      "execution_count": null,
      "outputs": []
    },
    {
      "cell_type": "code",
      "source": [],
      "metadata": {
        "id": "kw371mzcMXyj"
      },
      "execution_count": null,
      "outputs": []
    },
    {
      "cell_type": "code",
      "source": [],
      "metadata": {
        "id": "7V7cLYeIIinn"
      },
      "execution_count": null,
      "outputs": []
    },
    {
      "cell_type": "code",
      "source": [
        "gtd_viz.incidents_by_year()\n",
        "display(HTML(ref_link))"
      ],
      "metadata": {
        "id": "y5_RwTD6_EVY"
      },
      "execution_count": null,
      "outputs": []
    },
    {
      "cell_type": "code",
      "source": [
        "# Display the reference link with pop-up functionality\n",
        "display(HTML(ref_link))"
      ],
      "metadata": {
        "id": "wvCkc8vrI3Bm"
      },
      "execution_count": null,
      "outputs": []
    },
    {
      "cell_type": "code",
      "source": [
        "gtd_viz.attacks_by_country()"
      ],
      "metadata": {
        "id": "DeeU8GH3_W44"
      },
      "execution_count": null,
      "outputs": []
    },
    {
      "cell_type": "code",
      "source": [
        "gtd_viz.attacks_by_region()"
      ],
      "metadata": {
        "id": "ttZucvsY_eWl"
      },
      "execution_count": null,
      "outputs": []
    },
    {
      "cell_type": "code",
      "source": [
        "gtd_viz.attack_types()"
      ],
      "metadata": {
        "id": "0cGqYisA_lk8"
      },
      "execution_count": null,
      "outputs": []
    },
    {
      "cell_type": "code",
      "source": [
        "import matplotlib.pyplot as plt\n",
        "import numpy as np\n",
        "\n",
        "# Get the counts of each region\n",
        "region_counts = gtd_df['Region'].value_counts()\n",
        "\n",
        "# Create a color map from red (high) to blue (low)\n",
        "colors = plt.cm.coolwarm(np.linspace(1, 0, len(region_counts)))  # Invert color mapping\n",
        "\n",
        "# Sort the region counts in descending order to apply color mapping\n",
        "sorted_counts = region_counts.sort_values(ascending=False)\n",
        "sorted_colors = plt.cm.coolwarm(np.linspace(1, 0, len(sorted_counts)))  # Apply the inverted color map\n",
        "\n",
        "# Create the bar plot\n",
        "plt.figure(figsize=(12, 8))\n",
        "bars = plt.bar(sorted_counts.index, sorted_counts.values, color=sorted_colors)\n",
        "\n",
        "# Add labels and title\n",
        "plt.xlabel('Region')\n",
        "plt.ylabel('Number of Incidents')\n",
        "plt.title('Distribution of Incidents by Region')\n",
        "\n",
        "# Rotate x-axis labels diagonally to avoid overlap\n",
        "plt.xticks(rotation=45, ha='right')\n",
        "\n",
        "# Display the plot\n",
        "plt.show()\n"
      ],
      "metadata": {
        "id": "zo-OaWHViQaj"
      },
      "execution_count": null,
      "outputs": []
    },
    {
      "cell_type": "markdown",
      "source": [
        "### What all manipulations have you done and insights you found?"
      ],
      "metadata": {
        "id": "MSa1f5Uengrz"
      }
    },
    {
      "cell_type": "markdown",
      "source": [
        "Answer Here."
      ],
      "metadata": {
        "id": "LbyXE7I1olp8"
      }
    },
    {
      "cell_type": "markdown",
      "source": [
        "## ***4. Data Vizualization, Storytelling & Experimenting with charts : Understand the relationships between variables***"
      ],
      "metadata": {
        "id": "GF8Ens_Soomf"
      }
    },
    {
      "cell_type": "markdown",
      "source": [
        "#### Chart - 1"
      ],
      "metadata": {
        "id": "0wOQAZs5pc--"
      }
    },
    {
      "cell_type": "code",
      "source": [
        "# Chart - 1 visualization code\n",
        "#'Plot Map of Total number of attacks (1970-2017)-Country Wise'\n",
        "# Create a new DataFrame with only the 'Country' and 'Year' columns for ploting map\n",
        "gtd_map_df = gtd_df[['Country', 'Year']]\n",
        "\n",
        "# Group by Country and count the number of attacks\n",
        "terr = gtd_map_df.groupby('Country', as_index=False).size()\n",
        "# Rename the 'size' column to 'Attacks' BEFORE creating the choropleth map\n",
        "terr = terr.rename(columns={'size': 'Attacks'})\n",
        "\n",
        "# Create the choropleth map\n",
        "fig = px.choropleth(\n",
        "    terr,\n",
        "    locations='Country',\n",
        "    locationmode='country names',\n",
        "    color='Attacks',\n",
        "    hover_name='Country',\n",
        "    projection='orthographic',\n",
        "    title='Total number of attacks (1970-2017)-Country Wise',\n",
        "    labels={'Attacks': 'Number of Attacks'}\n",
        ")\n",
        "\n",
        "# Increase the size of the map\n",
        "fig.update_layout(\n",
        "    autosize=False,\n",
        "    width=1200,  # Set the desired width\n",
        "    height=800   # Set the desired height\n",
        ")\n",
        "\n",
        "#Plot the final map\n",
        "fig.show()"
      ],
      "metadata": {
        "id": "7v_ESjsspbW7"
      },
      "execution_count": null,
      "outputs": []
    },
    {
      "cell_type": "code",
      "source": [
        "#Class for Visualization.\n",
        "class TerrorismVisualization:\n",
        "    def __init__(self, df):\n",
        "        \"\"\"Initialize with DataFrame.\"\"\"\n",
        "        self.df = df\n",
        "\n",
        "    def incidents_by_year(self):\n",
        "        \"\"\"Plot number of incidents year-wise.\"\"\"\n",
        "        try:\n",
        "            data = self.df.groupby('Year').size()\n",
        "\n",
        "            fig = go.Figure()\n",
        "            fig.add_trace(go.Scatter(\n",
        "                x=data.index,\n",
        "                y=data.values,\n",
        "                mode='lines+markers',\n",
        "                marker=dict(color='black', size=10),\n",
        "                line=dict(color='black'),\n",
        "                text=[f'Year: {year}<br>Incidents: {num}' for year, num in zip(data.index, data.values)],\n",
        "                hoverinfo='text'\n",
        "            ))\n",
        "\n",
        "            fig.update_layout(\n",
        "                title='Number of Incidents Year wise',\n",
        "                xaxis_title='Year',\n",
        "                yaxis_title='Number of Incidents',\n",
        "                xaxis=dict(tickangle=45),\n",
        "                plot_bgcolor='slategrey',\n",
        "                paper_bgcolor='lightsteelblue',\n",
        "                template='plotly_white'\n",
        "            )\n",
        "\n",
        "            fig.show()\n",
        "        except Exception as e:\n",
        "            print(f\"Error occurred: {e}\")\n",
        "\n",
        "    def attacks_by_country(self):\n",
        "        \"\"\"Plot map of total number of attacks by country.\"\"\"\n",
        "        try:\n",
        "            gtd_map_df = self.df[['Country', 'Year']]\n",
        "            terr = gtd_map_df.groupby('Country', as_index=False).size()\n",
        "            terr = terr.rename(columns={'size': 'Attacks'})\n",
        "\n",
        "            fig = px.choropleth(\n",
        "                terr,\n",
        "                locations='Country',\n",
        "                locationmode='country names',\n",
        "                color='Attacks',\n",
        "                hover_name='Country',\n",
        "                projection='orthographic',\n",
        "                title='Total number of attacks (1970-2017)-Country Wise',\n",
        "                labels={'Attacks': 'Number of Attacks'}\n",
        "            )\n",
        "\n",
        "            fig.update_layout(\n",
        "                autosize=False,\n",
        "                width=1200,\n",
        "                height=800\n",
        "            )\n",
        "\n",
        "            fig.show()\n",
        "        except Exception as e:\n",
        "            print(f\"Error occurred: {e}\")\n",
        "\n",
        "    def attacks_by_region(self):\n",
        "        \"\"\"Plot bar chart of attacks by region.\"\"\"\n",
        "        try:\n",
        "            region_counts = self.df['Region'].value_counts().reset_index()\n",
        "            region_counts.columns = ['Region', 'Number of Attacks']\n",
        "\n",
        "            fig = px.bar(\n",
        "                region_counts,\n",
        "                x='Region',\n",
        "                y='Number of Attacks',\n",
        "                color='Number of Attacks',\n",
        "                color_continuous_scale=px.colors.sequential.Plasma,\n",
        "                title='Attacks by Region',\n",
        "                labels={'Number of Attacks': 'Number of Attacks'},\n",
        "                text='Number of Attacks'\n",
        "            )\n",
        "\n",
        "            fig.update_layout(\n",
        "                xaxis_title='Region',\n",
        "                yaxis_title='Number of Attacks',\n",
        "                xaxis_tickangle=-45,\n",
        "                coloraxis_colorbar_title='Number of Attacks'\n",
        "            )\n",
        "\n",
        "            fig.show()\n",
        "        except Exception as e:\n",
        "            print(f\"Error occurred: {e}\")\n",
        "\n",
        "    def attack_types(self):\n",
        "        \"\"\"Plot pie chart for attack types (Type 1).\"\"\"\n",
        "        try:\n",
        "            attack_type_counts = self.df['Attack Type 1'].value_counts().reset_index()\n",
        "            attack_type_counts.columns = ['Attack Type 1', 'Number of Attacks']\n",
        "\n",
        "            fig = px.pie(\n",
        "                attack_type_counts,\n",
        "                names='Attack Type 1',\n",
        "                values='Number of Attacks',\n",
        "                title='Types of Attack. Type-1',\n",
        "                labels={'Number of Attacks': 'Number of Attacks'},\n",
        "                template='plotly_white'\n",
        "            )\n",
        "\n",
        "            fig.show()\n",
        "        except Exception as e:\n",
        "            print(f\"Error occurred: {e}\")\n",
        "\n",
        "\n",
        "    def incidents_and_unknowns_by_year(self):\n",
        "        \"\"\"Plot incidents and unknown attackers by year with overlapping bars.\"\"\"\n",
        "        try:\n",
        "            # Get data for incidents and unknown attackers\n",
        "            attacks_per_year = self.df.groupby('Year').size()\n",
        "            unknown_counts_per_year = self.df[self.df['Group Name 1'] == 'Unknown'].groupby('Year').size()\n",
        "            unknown_counts_per_year = unknown_counts_per_year.reindex(attacks_per_year.index, fill_value=0)\n",
        "            percentages = (unknown_counts_per_year / attacks_per_year * 100).fillna(0)\n",
        "\n",
        "            # Create the figure\n",
        "            fig = go.Figure()\n",
        "\n",
        "            # Add bar chart for total incidents\n",
        "            fig.add_trace(go.Bar(\n",
        "                x=attacks_per_year.index,\n",
        "                y=attacks_per_year.values,\n",
        "                name='Total Incidents',\n",
        "                marker_color='blue',\n",
        "                opacity=0.6,\n",
        "                text=[f'Year: {year}<br>Total Incidents: {count}' for year,count in zip(attacks_per_year.index, attacks_per_year.values)],#\n",
        "                texttemplate='%{text}',\n",
        "                textposition='inside'\n",
        "            ))\n",
        "\n",
        "            # Add overlapping bar chart for unknown attackers count\n",
        "            fig.add_trace(go.Bar(\n",
        "                x=unknown_counts_per_year.index,\n",
        "                y=unknown_counts_per_year.values,\n",
        "                name='Unknown Attackers Count',\n",
        "                marker_color='red',\n",
        "                opacity=0.8,\n",
        "                text=[f'Year: {year}<br>Incidents with unknown attackers: {unknown}<br>Percentage: {perc:.1f}%' for year, unknown, perc in zip(unknown_counts_per_year.index, unknown_counts_per_year.values, percentages)],\n",
        "                texttemplate='%{text}',\n",
        "                textposition='inside'\n",
        "            ))\n",
        "\n",
        "            # Update layout\n",
        "            fig.update_layout(\n",
        "                title='Number of Incidents and Unknown Attackers per Year',\n",
        "                xaxis_title='Year',\n",
        "                yaxis_title='Number of Incidents',\n",
        "                barmode='overlay',  # Overlay bars on top of each other\n",
        "                yaxis=dict(range=[0, max(attacks_per_year.max(), unknown_counts_per_year.max()) * 1.1]),  # Adjust range as needed\n",
        "                legend_title='Legend'\n",
        "            )\n",
        "\n",
        "            fig.show()\n",
        "        except Exception as e:\n",
        "            print(f\"Error occurred: {e}\")\n",
        "\n",
        "\n",
        "gtd_viz = TerrorismVisualization(gtd_df)\n",
        "\n",
        "# Usage example:\n",
        "\n",
        "#gtd_viz.incidents_by_year()\n",
        "#gtd_viz.attacks_by_country()\n",
        "#gtd_viz.attacks_by_region()\n",
        "#gtd_viz.attack_types()\n",
        "#gtd_viz.attack_target_heatmap()\n",
        "#gtd_viz.plot_attacks_by_group()"
      ],
      "metadata": {
        "id": "wASjSnQlXXfH"
      },
      "execution_count": null,
      "outputs": []
    },
    {
      "cell_type": "code",
      "source": [
        "gtd_viz.incidents_and_unknowns_by_year()"
      ],
      "metadata": {
        "id": "W8xvpylH_2sO"
      },
      "execution_count": null,
      "outputs": []
    },
    {
      "cell_type": "markdown",
      "source": [
        "##### 1. Why did you pick the specific chart?"
      ],
      "metadata": {
        "id": "K5QZ13OEpz2H"
      }
    },
    {
      "cell_type": "markdown",
      "source": [
        "Answer Here."
      ],
      "metadata": {
        "id": "XESiWehPqBRc"
      }
    },
    {
      "cell_type": "markdown",
      "source": [
        "##### 2. What is/are the insight(s) found from the chart?"
      ],
      "metadata": {
        "id": "lQ7QKXXCp7Bj"
      }
    },
    {
      "cell_type": "markdown",
      "source": [
        "Answer Here"
      ],
      "metadata": {
        "id": "C_j1G7yiqdRP"
      }
    },
    {
      "cell_type": "markdown",
      "source": [
        "##### 3. Will the gained insights help creating a positive business impact?\n",
        "Are there any insights that lead to negative growth? Justify with specific reason."
      ],
      "metadata": {
        "id": "448CDAPjqfQr"
      }
    },
    {
      "cell_type": "markdown",
      "source": [
        "Answer Here"
      ],
      "metadata": {
        "id": "3cspy4FjqxJW"
      }
    },
    {
      "cell_type": "markdown",
      "source": [
        "#### Chart - 2"
      ],
      "metadata": {
        "id": "KSlN3yHqYklG"
      }
    },
    {
      "cell_type": "markdown",
      "source": [
        "##### 1. Why did you pick the specific chart?"
      ],
      "metadata": {
        "id": "t6dVpIINYklI"
      }
    },
    {
      "cell_type": "markdown",
      "source": [
        "Answer Here."
      ],
      "metadata": {
        "id": "5aaW0BYyYklI"
      }
    },
    {
      "cell_type": "markdown",
      "source": [
        "##### 2. What is/are the insight(s) found from the chart?"
      ],
      "metadata": {
        "id": "ijmpgYnKYklI"
      }
    },
    {
      "cell_type": "markdown",
      "source": [
        "Answer Here"
      ],
      "metadata": {
        "id": "PSx9atu2YklI"
      }
    },
    {
      "cell_type": "markdown",
      "source": [
        "##### 3. Will the gained insights help creating a positive business impact?\n",
        "Are there any insights that lead to negative growth? Justify with specific reason."
      ],
      "metadata": {
        "id": "-JiQyfWJYklI"
      }
    },
    {
      "cell_type": "markdown",
      "source": [
        "Answer Here"
      ],
      "metadata": {
        "id": "BcBbebzrYklV"
      }
    },
    {
      "cell_type": "markdown",
      "source": [
        "#### Chart - 3"
      ],
      "metadata": {
        "id": "EM7whBJCYoAo"
      }
    },
    {
      "cell_type": "code",
      "source": [
        "# Chart - 3 visualization code"
      ],
      "metadata": {
        "id": "t6GMdE67YoAp"
      },
      "execution_count": null,
      "outputs": []
    },
    {
      "cell_type": "markdown",
      "source": [
        "##### 1. Why did you pick the specific chart?"
      ],
      "metadata": {
        "id": "fge-S5ZAYoAp"
      }
    },
    {
      "cell_type": "markdown",
      "source": [
        "Answer Here."
      ],
      "metadata": {
        "id": "5dBItgRVYoAp"
      }
    },
    {
      "cell_type": "markdown",
      "source": [
        "##### 2. What is/are the insight(s) found from the chart?"
      ],
      "metadata": {
        "id": "85gYPyotYoAp"
      }
    },
    {
      "cell_type": "markdown",
      "source": [
        "Answer Here"
      ],
      "metadata": {
        "id": "4jstXR6OYoAp"
      }
    },
    {
      "cell_type": "markdown",
      "source": [
        "##### 3. Will the gained insights help creating a positive business impact?\n",
        "Are there any insights that lead to negative growth? Justify with specific reason."
      ],
      "metadata": {
        "id": "RoGjAbkUYoAp"
      }
    },
    {
      "cell_type": "markdown",
      "source": [
        "Answer Here"
      ],
      "metadata": {
        "id": "zfJ8IqMcYoAp"
      }
    },
    {
      "cell_type": "markdown",
      "source": [
        "#### Chart - 4"
      ],
      "metadata": {
        "id": "4Of9eVA-YrdM"
      }
    },
    {
      "cell_type": "code",
      "source": [
        "# Chart - 4 visualization code"
      ],
      "metadata": {
        "id": "irlUoxc8YrdO"
      },
      "execution_count": null,
      "outputs": []
    },
    {
      "cell_type": "markdown",
      "source": [
        "##### 1. Why did you pick the specific chart?"
      ],
      "metadata": {
        "id": "iky9q4vBYrdO"
      }
    },
    {
      "cell_type": "markdown",
      "source": [
        "Answer Here."
      ],
      "metadata": {
        "id": "aJRCwT6DYrdO"
      }
    },
    {
      "cell_type": "markdown",
      "source": [
        "##### 2. What is/are the insight(s) found from the chart?"
      ],
      "metadata": {
        "id": "F6T5p64dYrdO"
      }
    },
    {
      "cell_type": "markdown",
      "source": [
        "Answer Here"
      ],
      "metadata": {
        "id": "Xx8WAJvtYrdO"
      }
    },
    {
      "cell_type": "markdown",
      "source": [
        "##### 3. Will the gained insights help creating a positive business impact?\n",
        "Are there any insights that lead to negative growth? Justify with specific reason."
      ],
      "metadata": {
        "id": "y-Ehk30pYrdP"
      }
    },
    {
      "cell_type": "markdown",
      "source": [
        "Answer Here"
      ],
      "metadata": {
        "id": "jLNxxz7MYrdP"
      }
    },
    {
      "cell_type": "markdown",
      "source": [
        "#### Chart - 5"
      ],
      "metadata": {
        "id": "bamQiAODYuh1"
      }
    },
    {
      "cell_type": "code",
      "source": [
        "# Chart - 5 visualization code"
      ],
      "metadata": {
        "id": "TIJwrbroYuh3"
      },
      "execution_count": null,
      "outputs": []
    },
    {
      "cell_type": "markdown",
      "source": [
        "##### 1. Why did you pick the specific chart?"
      ],
      "metadata": {
        "id": "QHF8YVU7Yuh3"
      }
    },
    {
      "cell_type": "markdown",
      "source": [
        "Answer Here."
      ],
      "metadata": {
        "id": "dcxuIMRPYuh3"
      }
    },
    {
      "cell_type": "markdown",
      "source": [
        "##### 2. What is/are the insight(s) found from the chart?"
      ],
      "metadata": {
        "id": "GwzvFGzlYuh3"
      }
    },
    {
      "cell_type": "markdown",
      "source": [
        "Answer Here"
      ],
      "metadata": {
        "id": "uyqkiB8YYuh3"
      }
    },
    {
      "cell_type": "markdown",
      "source": [
        "##### 3. Will the gained insights help creating a positive business impact?\n",
        "Are there any insights that lead to negative growth? Justify with specific reason."
      ],
      "metadata": {
        "id": "qYpmQ266Yuh3"
      }
    },
    {
      "cell_type": "markdown",
      "source": [
        "Answer Here"
      ],
      "metadata": {
        "id": "_WtzZ_hCYuh4"
      }
    },
    {
      "cell_type": "markdown",
      "source": [
        "#### Chart - 6"
      ],
      "metadata": {
        "id": "OH-pJp9IphqM"
      }
    },
    {
      "cell_type": "code",
      "source": [
        "# Chart - 6 visualization code"
      ],
      "metadata": {
        "id": "kuRf4wtuphqN"
      },
      "execution_count": null,
      "outputs": []
    },
    {
      "cell_type": "markdown",
      "source": [
        "##### 1. Why did you pick the specific chart?"
      ],
      "metadata": {
        "id": "bbFf2-_FphqN"
      }
    },
    {
      "cell_type": "markdown",
      "source": [
        "Answer Here."
      ],
      "metadata": {
        "id": "loh7H2nzphqN"
      }
    },
    {
      "cell_type": "markdown",
      "source": [
        "##### 2. What is/are the insight(s) found from the chart?"
      ],
      "metadata": {
        "id": "_ouA3fa0phqN"
      }
    },
    {
      "cell_type": "markdown",
      "source": [
        "Answer Here"
      ],
      "metadata": {
        "id": "VECbqPI7phqN"
      }
    },
    {
      "cell_type": "markdown",
      "source": [
        "##### 3. Will the gained insights help creating a positive business impact?\n",
        "Are there any insights that lead to negative growth? Justify with specific reason."
      ],
      "metadata": {
        "id": "Seke61FWphqN"
      }
    },
    {
      "cell_type": "markdown",
      "source": [
        "Answer Here"
      ],
      "metadata": {
        "id": "DW4_bGpfphqN"
      }
    },
    {
      "cell_type": "markdown",
      "source": [
        "#### Chart - 7"
      ],
      "metadata": {
        "id": "PIIx-8_IphqN"
      }
    },
    {
      "cell_type": "code",
      "source": [
        "# Chart - 7 visualization code"
      ],
      "metadata": {
        "id": "lqAIGUfyphqO"
      },
      "execution_count": null,
      "outputs": []
    },
    {
      "cell_type": "markdown",
      "source": [
        "##### 1. Why did you pick the specific chart?"
      ],
      "metadata": {
        "id": "t27r6nlMphqO"
      }
    },
    {
      "cell_type": "markdown",
      "source": [
        "Answer Here."
      ],
      "metadata": {
        "id": "iv6ro40sphqO"
      }
    },
    {
      "cell_type": "markdown",
      "source": [
        "##### 2. What is/are the insight(s) found from the chart?"
      ],
      "metadata": {
        "id": "r2jJGEOYphqO"
      }
    },
    {
      "cell_type": "markdown",
      "source": [
        "Answer Here"
      ],
      "metadata": {
        "id": "Po6ZPi4hphqO"
      }
    },
    {
      "cell_type": "markdown",
      "source": [
        "##### 3. Will the gained insights help creating a positive business impact?\n",
        "Are there any insights that lead to negative growth? Justify with specific reason."
      ],
      "metadata": {
        "id": "b0JNsNcRphqO"
      }
    },
    {
      "cell_type": "markdown",
      "source": [
        "Answer Here"
      ],
      "metadata": {
        "id": "xvSq8iUTphqO"
      }
    },
    {
      "cell_type": "markdown",
      "source": [
        "#### Chart - 8"
      ],
      "metadata": {
        "id": "BZR9WyysphqO"
      }
    },
    {
      "cell_type": "code",
      "source": [
        "# Chart - 8 visualization code"
      ],
      "metadata": {
        "id": "TdPTWpAVphqO"
      },
      "execution_count": null,
      "outputs": []
    },
    {
      "cell_type": "markdown",
      "source": [
        "##### 1. Why did you pick the specific chart?"
      ],
      "metadata": {
        "id": "jj7wYXLtphqO"
      }
    },
    {
      "cell_type": "markdown",
      "source": [
        "Answer Here."
      ],
      "metadata": {
        "id": "Ob8u6rCTphqO"
      }
    },
    {
      "cell_type": "markdown",
      "source": [
        "##### 2. What is/are the insight(s) found from the chart?"
      ],
      "metadata": {
        "id": "eZrbJ2SmphqO"
      }
    },
    {
      "cell_type": "markdown",
      "source": [
        "Answer Here"
      ],
      "metadata": {
        "id": "mZtgC_hjphqO"
      }
    },
    {
      "cell_type": "markdown",
      "source": [
        "##### 3. Will the gained insights help creating a positive business impact?\n",
        "Are there any insights that lead to negative growth? Justify with specific reason."
      ],
      "metadata": {
        "id": "rFu4xreNphqO"
      }
    },
    {
      "cell_type": "markdown",
      "source": [
        "Answer Here"
      ],
      "metadata": {
        "id": "ey_0qi68phqO"
      }
    },
    {
      "cell_type": "markdown",
      "source": [
        "#### Chart - 9"
      ],
      "metadata": {
        "id": "YJ55k-q6phqO"
      }
    },
    {
      "cell_type": "code",
      "source": [
        "# Chart - 9 visualization code"
      ],
      "metadata": {
        "id": "B2aS4O1ophqO"
      },
      "execution_count": null,
      "outputs": []
    },
    {
      "cell_type": "markdown",
      "source": [
        "##### 1. Why did you pick the specific chart?"
      ],
      "metadata": {
        "id": "gCFgpxoyphqP"
      }
    },
    {
      "cell_type": "markdown",
      "source": [
        "Answer Here."
      ],
      "metadata": {
        "id": "TVxDimi2phqP"
      }
    },
    {
      "cell_type": "markdown",
      "source": [
        "##### 2. What is/are the insight(s) found from the chart?"
      ],
      "metadata": {
        "id": "OVtJsKN_phqQ"
      }
    },
    {
      "cell_type": "markdown",
      "source": [
        "Answer Here"
      ],
      "metadata": {
        "id": "ngGi97qjphqQ"
      }
    },
    {
      "cell_type": "markdown",
      "source": [
        "##### 3. Will the gained insights help creating a positive business impact?\n",
        "Are there any insights that lead to negative growth? Justify with specific reason."
      ],
      "metadata": {
        "id": "lssrdh5qphqQ"
      }
    },
    {
      "cell_type": "markdown",
      "source": [
        "Answer Here"
      ],
      "metadata": {
        "id": "tBpY5ekJphqQ"
      }
    },
    {
      "cell_type": "markdown",
      "source": [
        "#### Chart - 10"
      ],
      "metadata": {
        "id": "U2RJ9gkRphqQ"
      }
    },
    {
      "cell_type": "code",
      "source": [
        "# Chart - 10 visualization code"
      ],
      "metadata": {
        "id": "GM7a4YP4phqQ"
      },
      "execution_count": null,
      "outputs": []
    },
    {
      "cell_type": "markdown",
      "source": [
        "##### 1. Why did you pick the specific chart?"
      ],
      "metadata": {
        "id": "1M8mcRywphqQ"
      }
    },
    {
      "cell_type": "markdown",
      "source": [
        "Answer Here."
      ],
      "metadata": {
        "id": "8agQvks0phqQ"
      }
    },
    {
      "cell_type": "markdown",
      "source": [
        "##### 2. What is/are the insight(s) found from the chart?"
      ],
      "metadata": {
        "id": "tgIPom80phqQ"
      }
    },
    {
      "cell_type": "markdown",
      "source": [
        "Answer Here"
      ],
      "metadata": {
        "id": "Qp13pnNzphqQ"
      }
    },
    {
      "cell_type": "markdown",
      "source": [
        "##### 3. Will the gained insights help creating a positive business impact?\n",
        "Are there any insights that lead to negative growth? Justify with specific reason."
      ],
      "metadata": {
        "id": "JMzcOPDDphqR"
      }
    },
    {
      "cell_type": "markdown",
      "source": [
        "Answer Here"
      ],
      "metadata": {
        "id": "R4Ka1PC2phqR"
      }
    },
    {
      "cell_type": "markdown",
      "source": [
        "#### Chart - 11"
      ],
      "metadata": {
        "id": "x-EpHcCOp1ci"
      }
    },
    {
      "cell_type": "code",
      "source": [
        "# Chart - 11 visualization code"
      ],
      "metadata": {
        "id": "mAQTIvtqp1cj"
      },
      "execution_count": null,
      "outputs": []
    },
    {
      "cell_type": "markdown",
      "source": [
        "##### 1. Why did you pick the specific chart?"
      ],
      "metadata": {
        "id": "X_VqEhTip1ck"
      }
    },
    {
      "cell_type": "markdown",
      "source": [
        "Answer Here."
      ],
      "metadata": {
        "id": "-vsMzt_np1ck"
      }
    },
    {
      "cell_type": "markdown",
      "source": [
        "##### 2. What is/are the insight(s) found from the chart?"
      ],
      "metadata": {
        "id": "8zGJKyg5p1ck"
      }
    },
    {
      "cell_type": "markdown",
      "source": [
        "Answer Here"
      ],
      "metadata": {
        "id": "ZYdMsrqVp1ck"
      }
    },
    {
      "cell_type": "markdown",
      "source": [
        "##### 3. Will the gained insights help creating a positive business impact?\n",
        "Are there any insights that lead to negative growth? Justify with specific reason."
      ],
      "metadata": {
        "id": "PVzmfK_Ep1ck"
      }
    },
    {
      "cell_type": "markdown",
      "source": [
        "Answer Here"
      ],
      "metadata": {
        "id": "druuKYZpp1ck"
      }
    },
    {
      "cell_type": "markdown",
      "source": [
        "#### Chart - 12"
      ],
      "metadata": {
        "id": "n3dbpmDWp1ck"
      }
    },
    {
      "cell_type": "code",
      "source": [
        "# Chart - 12 visualization code"
      ],
      "metadata": {
        "id": "bwevp1tKp1ck"
      },
      "execution_count": null,
      "outputs": []
    },
    {
      "cell_type": "markdown",
      "source": [
        "##### 1. Why did you pick the specific chart?"
      ],
      "metadata": {
        "id": "ylSl6qgtp1ck"
      }
    },
    {
      "cell_type": "markdown",
      "source": [
        "Answer Here."
      ],
      "metadata": {
        "id": "m2xqNkiQp1ck"
      }
    },
    {
      "cell_type": "markdown",
      "source": [
        "##### 2. What is/are the insight(s) found from the chart?"
      ],
      "metadata": {
        "id": "ZWILFDl5p1ck"
      }
    },
    {
      "cell_type": "markdown",
      "source": [
        "Answer Here"
      ],
      "metadata": {
        "id": "x-lUsV2mp1ck"
      }
    },
    {
      "cell_type": "markdown",
      "source": [
        "##### 3. Will the gained insights help creating a positive business impact?\n",
        "Are there any insights that lead to negative growth? Justify with specific reason."
      ],
      "metadata": {
        "id": "M7G43BXep1ck"
      }
    },
    {
      "cell_type": "markdown",
      "source": [
        "Answer Here"
      ],
      "metadata": {
        "id": "5wwDJXsLp1cl"
      }
    },
    {
      "cell_type": "markdown",
      "source": [
        "#### Chart - 13"
      ],
      "metadata": {
        "id": "Ag9LCva-p1cl"
      }
    },
    {
      "cell_type": "code",
      "source": [
        "# Chart - 13 visualization code"
      ],
      "metadata": {
        "id": "EUfxeq9-p1cl"
      },
      "execution_count": null,
      "outputs": []
    },
    {
      "cell_type": "markdown",
      "source": [
        "##### 1. Why did you pick the specific chart?"
      ],
      "metadata": {
        "id": "E6MkPsBcp1cl"
      }
    },
    {
      "cell_type": "markdown",
      "source": [
        "Answer Here."
      ],
      "metadata": {
        "id": "V22bRsFWp1cl"
      }
    },
    {
      "cell_type": "markdown",
      "source": [
        "##### 2. What is/are the insight(s) found from the chart?"
      ],
      "metadata": {
        "id": "2cELzS2fp1cl"
      }
    },
    {
      "cell_type": "markdown",
      "source": [
        "Answer Here"
      ],
      "metadata": {
        "id": "ozQPc2_Ip1cl"
      }
    },
    {
      "cell_type": "markdown",
      "source": [
        "##### 3. Will the gained insights help creating a positive business impact?\n",
        "Are there any insights that lead to negative growth? Justify with specific reason."
      ],
      "metadata": {
        "id": "3MPXvC8up1cl"
      }
    },
    {
      "cell_type": "markdown",
      "source": [
        "Answer Here"
      ],
      "metadata": {
        "id": "GL8l1tdLp1cl"
      }
    },
    {
      "cell_type": "markdown",
      "source": [
        "#### Chart - 14 - Correlation Heatmap"
      ],
      "metadata": {
        "id": "NC_X3p0fY2L0"
      }
    },
    {
      "cell_type": "code",
      "source": [
        "# Correlation Heatmap visualization code"
      ],
      "metadata": {
        "id": "xyC9zolEZNRQ"
      },
      "execution_count": null,
      "outputs": []
    },
    {
      "cell_type": "markdown",
      "source": [
        "##### 1. Why did you pick the specific chart?"
      ],
      "metadata": {
        "id": "UV0SzAkaZNRQ"
      }
    },
    {
      "cell_type": "markdown",
      "source": [
        "Answer Here."
      ],
      "metadata": {
        "id": "DVPuT8LYZNRQ"
      }
    },
    {
      "cell_type": "markdown",
      "source": [
        "##### 2. What is/are the insight(s) found from the chart?"
      ],
      "metadata": {
        "id": "YPEH6qLeZNRQ"
      }
    },
    {
      "cell_type": "markdown",
      "source": [
        "Answer Here"
      ],
      "metadata": {
        "id": "bfSqtnDqZNRR"
      }
    },
    {
      "cell_type": "markdown",
      "source": [
        "#### Chart - 15 - Pair Plot"
      ],
      "metadata": {
        "id": "q29F0dvdveiT"
      }
    },
    {
      "cell_type": "code",
      "source": [
        "# Pair Plot visualization code"
      ],
      "metadata": {
        "id": "o58-TEIhveiU"
      },
      "execution_count": null,
      "outputs": []
    },
    {
      "cell_type": "markdown",
      "source": [
        "##### 1. Why did you pick the specific chart?"
      ],
      "metadata": {
        "id": "EXh0U9oCveiU"
      }
    },
    {
      "cell_type": "markdown",
      "source": [
        "Answer Here."
      ],
      "metadata": {
        "id": "eMmPjTByveiU"
      }
    },
    {
      "cell_type": "markdown",
      "source": [
        "##### 2. What is/are the insight(s) found from the chart?"
      ],
      "metadata": {
        "id": "22aHeOlLveiV"
      }
    },
    {
      "cell_type": "markdown",
      "source": [
        "Answer Here"
      ],
      "metadata": {
        "id": "uPQ8RGwHveiV"
      }
    },
    {
      "cell_type": "markdown",
      "source": [
        "## **5. Solution to Business Objective**"
      ],
      "metadata": {
        "id": "JcMwzZxoAimU"
      }
    },
    {
      "cell_type": "markdown",
      "source": [
        "#### What do you suggest the client to achieve Business Objective ?\n",
        "Explain Briefly."
      ],
      "metadata": {
        "id": "8G2x9gOozGDZ"
      }
    },
    {
      "cell_type": "markdown",
      "source": [
        "Answer Here."
      ],
      "metadata": {
        "id": "pASKb0qOza21"
      }
    },
    {
      "cell_type": "markdown",
      "source": [
        "# **Conclusion**"
      ],
      "metadata": {
        "id": "gCX9965dhzqZ"
      }
    },
    {
      "cell_type": "markdown",
      "source": [
        "Write the conclusion here."
      ],
      "metadata": {
        "id": "Fjb1IsQkh3yE"
      }
    },
    {
      "cell_type": "markdown",
      "source": [
        "### ***Hurrah! You have successfully completed your EDA Capstone Project !!!***"
      ],
      "metadata": {
        "id": "gIfDvo9L0UH2"
      }
    }
  ]
}